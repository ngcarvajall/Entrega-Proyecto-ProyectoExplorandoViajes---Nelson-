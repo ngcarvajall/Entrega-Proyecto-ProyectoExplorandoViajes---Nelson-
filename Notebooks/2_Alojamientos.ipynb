{
 "cells": [
  {
   "cell_type": "code",
   "execution_count": 8,
   "metadata": {},
   "outputs": [],
   "source": [
    "import requests\n",
    "#import pandas as pd\n",
    "import dotenv as dotenv\n",
    "import os\n"
   ]
  },
  {
   "cell_type": "code",
   "execution_count": 6,
   "metadata": {},
   "outputs": [],
   "source": [
    "dotenv.load_dotenv()\n",
    "api_key_booking=os.getenv(\"api_key_booking\")"
   ]
  },
  {
   "cell_type": "code",
   "execution_count": 41,
   "metadata": {},
   "outputs": [],
   "source": [
    "import requests\n",
    "#hago mi rquest\n",
    "url = \"https://booking-com15.p.rapidapi.com/api/v1/hotels/searchHotels\"\n",
    "\n",
    "querystring = {\"dest_id\":\"-117543\",\"search_type\":\"CITY\",\"arrival_date\":\"2024-10-25\",\"departure_date\":\"2024-10-28\",\"adults\":\"1\",\"room_qty\":\"1\",\"page_number\":\"1\",\"units\":\"metric\",\"temperature_unit\":\"c\",\"languagecode\":\"en-us\",\"currency_code\":\"EUR\"}\n",
    "\n",
    "headers = {\n",
    "\t\"x-rapidapi-key\": api_key_booking,\n",
    "\t\"x-rapidapi-host\": \"booking-com15.p.rapidapi.com\"\n",
    "}\n",
    "\n",
    "response = requests.get(url, headers=headers, params=querystring)\n",
    "\n",
    "datos= response.json()"
   ]
  },
  {
   "cell_type": "code",
   "execution_count": 43,
   "metadata": {},
   "outputs": [],
   "source": [
    "clean = datos['data']\n",
    "#empiezo a adentrarme en mis diccionarios"
   ]
  },
  {
   "cell_type": "code",
   "execution_count": 44,
   "metadata": {},
   "outputs": [
    {
     "data": {
      "text/plain": [
       "dict_keys(['hotels', 'meta', 'appear'])"
      ]
     },
     "execution_count": 44,
     "metadata": {},
     "output_type": "execute_result"
    }
   ],
   "source": [
    "#busco mis keys\n",
    "clean.keys()"
   ]
  },
  {
   "cell_type": "code",
   "execution_count": 45,
   "metadata": {},
   "outputs": [],
   "source": [
    "#al encontrar la info, paso a seguir buscando\n",
    "hoteles = clean['hotels']"
   ]
  },
  {
   "cell_type": "code",
   "execution_count": 48,
   "metadata": {},
   "outputs": [
    {
     "data": {
      "text/plain": [
       "'Florence Heart Uffizi - Renovated and central'"
      ]
     },
     "execution_count": 48,
     "metadata": {},
     "output_type": "execute_result"
    }
   ],
   "source": [
    "#saco el nombre\n",
    "hoteles[0]['property']['name']"
   ]
  },
  {
   "cell_type": "code",
   "execution_count": 49,
   "metadata": {},
   "outputs": [
    {
     "data": {
      "text/plain": [
       "70"
      ]
     },
     "execution_count": 49,
     "metadata": {},
     "output_type": "execute_result"
    }
   ],
   "source": [
    "#saco la cantidad de reviews\n",
    "hoteles[0]['property']['reviewCount']"
   ]
  },
  {
   "cell_type": "code",
   "execution_count": 50,
   "metadata": {},
   "outputs": [
    {
     "data": {
      "text/plain": [
       "9.1"
      ]
     },
     "execution_count": 50,
     "metadata": {},
     "output_type": "execute_result"
    }
   ],
   "source": [
    "#saco el score\n",
    "hoteles[0]['property']['reviewScore']"
   ]
  },
  {
   "cell_type": "code",
   "execution_count": 51,
   "metadata": {},
   "outputs": [
    {
     "data": {
      "text/plain": [
       "585"
      ]
     },
     "execution_count": 51,
     "metadata": {},
     "output_type": "execute_result"
    }
   ],
   "source": [
    "# precio por las noches\n",
    "hoteles[0]['property']['priceBreakdown']['grossPrice']['value']"
   ]
  },
  {
   "cell_type": "code",
   "execution_count": 59,
   "metadata": {},
   "outputs": [
    {
     "data": {
      "text/plain": [
       "'15:00'"
      ]
     },
     "execution_count": 59,
     "metadata": {},
     "output_type": "execute_result"
    }
   ],
   "source": [
    "hoteles[0]['property']['checkin']['fromTime']"
   ]
  },
  {
   "cell_type": "code",
   "execution_count": 60,
   "metadata": {},
   "outputs": [
    {
     "data": {
      "text/plain": [
       "'20:00'"
      ]
     },
     "execution_count": 60,
     "metadata": {},
     "output_type": "execute_result"
    }
   ],
   "source": [
    "hoteles[0]['property']['checkin']['untilTime']"
   ]
  },
  {
   "cell_type": "code",
   "execution_count": 61,
   "metadata": {},
   "outputs": [
    {
     "data": {
      "text/plain": [
       "'08:00'"
      ]
     },
     "execution_count": 61,
     "metadata": {},
     "output_type": "execute_result"
    }
   ],
   "source": [
    "hoteles[0]['property']['checkout']['fromTime']"
   ]
  },
  {
   "cell_type": "code",
   "execution_count": 62,
   "metadata": {},
   "outputs": [
    {
     "data": {
      "text/plain": [
       "'10:00'"
      ]
     },
     "execution_count": 62,
     "metadata": {},
     "output_type": "execute_result"
    }
   ],
   "source": [
    "hoteles[0]['property']['checkout']['untilTime']"
   ]
  },
  {
   "cell_type": "code",
   "execution_count": 63,
   "metadata": {},
   "outputs": [],
   "source": [
    "#lista vacía para meter cosas\n",
    "lista_datos_dicc = []\n",
    "for i in range(0,(len(hoteles))):\n",
    "     ciudad = hoteles[i]['property']['wishlistName']\n",
    "     nombre = hoteles[i]['property']['name']\n",
    "     reviewcount = hoteles[i]['property']['reviewCount']\n",
    "     reviewscore = hoteles[i]['property']['reviewScore']\n",
    "     precio = hoteles[i]['property']['priceBreakdown']['grossPrice']['value']\n",
    "     hora_entrada1 = hoteles[i]['property']['checkin']['fromTime']\n",
    "     hora_entrada2 = hoteles[i]['property']['checkin']['untilTime']\n",
    "     hora_salida1 = hoteles[i]['property']['checkout']['fromTime']\n",
    "     hora_salida2 = hoteles[i]['property']['checkout']['untilTime']\n",
    "     dicc = {\n",
    "     'Ciudad': ciudad,\n",
    "     'Hotel': nombre,\n",
    "     'Cantidad de reviews':reviewcount,\n",
    "     'Calificación': reviewscore,\n",
    "     'Precio': precio,\n",
    "     'Entrada desde': hora_entrada1,\n",
    "     'Entrada hasta': hora_entrada2,\n",
    "     'Salida desde': hora_salida1,\n",
    "     'Salida hasta': hora_salida2}\n",
    "     lista_datos_dicc.append(dicc)"
   ]
  },
  {
   "cell_type": "code",
   "execution_count": 64,
   "metadata": {},
   "outputs": [],
   "source": [
    "df = pd.DataFrame(lista_datos_dicc)"
   ]
  },
  {
   "cell_type": "code",
   "execution_count": 72,
   "metadata": {},
   "outputs": [
    {
     "data": {
      "text/plain": [
       "Ciudad                  object\n",
       "Hotel                   object\n",
       "Cantidad de reviews      int64\n",
       "Calificación           float64\n",
       "Precio                 float64\n",
       "Entrada desde           object\n",
       "Entrada hasta           object\n",
       "Salida desde            object\n",
       "Salida hasta            object\n",
       "dtype: object"
      ]
     },
     "execution_count": 72,
     "metadata": {},
     "output_type": "execute_result"
    }
   ],
   "source": [
    "df.dtypes"
   ]
  },
  {
   "cell_type": "code",
   "execution_count": 74,
   "metadata": {},
   "outputs": [],
   "source": [
    "df.to_csv('datos/alojamientos_florencia.csv', index=False)"
   ]
  },
  {
   "cell_type": "code",
   "execution_count": 60,
   "metadata": {},
   "outputs": [],
   "source": [
    "# lista_datos_dicc = []\n",
    "# for i in range(0,(len(hoteles))-1):\n",
    "#     dato_hotel = hoteles[i]['accessibilityLabel']\n",
    "#     nombre = dato_hotel.split('\\n')[0]\n",
    "#     specs = dato_hotel.split('\\n')[4]\n",
    "#     precio = dato_hotel.split('\\n')[5]\n",
    "#     dicc = {\n",
    "#     'Hotel': nombre,\n",
    "#     'Especificaciones':specs,\n",
    "#     'Precio': precio}\n",
    "#     lista_datos_dicc.append(dicc)"
   ]
  },
  {
   "cell_type": "code",
   "execution_count": 85,
   "metadata": {},
   "outputs": [],
   "source": [
    "# df = pd.DataFrame(lista_datos_dicc)\n",
    "# df"
   ]
  },
  {
   "cell_type": "code",
   "execution_count": 1,
   "metadata": {},
   "outputs": [],
   "source": [
    "import requests\n",
    "\n",
    "url = \"https://booking-com15.p.rapidapi.com/api/v1/hotels/searchHotels\"\n",
    "\n",
    "querystring = {\"dest_id\":\"-2167973\",\"search_type\":\"CITY\",\"arrival_date\":\"2024-10-25\",\"departure_date\":\"2024-10-28\",\"adults\":\"1\",\"room_qty\":\"1\",\"page_number\":\"1\",\"units\":\"metric\",\"temperature_unit\":\"c\",\"languagecode\":\"en-us\",\"currency_code\":\"EUR\"}\n",
    "\n",
    "headers = {\n",
    "\t\"x-rapidapi-key\": api_key_booking,\n",
    "\t\"x-rapidapi-host\": \"booking-com15.p.rapidapi.com\"\n",
    "}\n",
    "\n",
    "response = requests.get(url, headers=headers, params=querystring)\n",
    "\n",
    "datos_lisboa = response.json()"
   ]
  },
  {
   "cell_type": "code",
   "execution_count": 8,
   "metadata": {},
   "outputs": [],
   "source": [
    "hoteles_lisboa = datos_lisboa['data']['hotels']"
   ]
  },
  {
   "cell_type": "code",
   "execution_count": 38,
   "metadata": {},
   "outputs": [
    {
     "data": {
      "text/plain": [
       "20"
      ]
     },
     "execution_count": 38,
     "metadata": {},
     "output_type": "execute_result"
    }
   ],
   "source": [
    "len(hoteles_lisboa)"
   ]
  },
  {
   "cell_type": "code",
   "execution_count": 12,
   "metadata": {},
   "outputs": [
    {
     "data": {
      "text/plain": [
       "dict_keys(['reviewScoreWord', 'accuratePropertyClass', 'latitude', 'position', 'qualityClass', 'wishlistName', 'countryCode', 'optOutFromGalleryChanges', 'reviewCount', 'longitude', 'checkin', 'checkinDate', 'currency', 'ufi', 'rankingPosition', 'blockIds', 'checkoutDate', 'name', 'mainPhotoId', 'photoUrls', 'isFirstPage', 'priceBreakdown', 'checkout', 'id', 'reviewScore', 'propertyClass'])"
      ]
     },
     "execution_count": 12,
     "metadata": {},
     "output_type": "execute_result"
    }
   ],
   "source": [
    "hoteles_lisboa[0]['property'].keys()"
   ]
  },
  {
   "cell_type": "code",
   "execution_count": 10,
   "metadata": {},
   "outputs": [
    {
     "data": {
      "text/plain": [
       "'Quarto com Varanda e WC Partilhado no Chiado Lisboa Centro Histórico de Lisboa'"
      ]
     },
     "execution_count": 10,
     "metadata": {},
     "output_type": "execute_result"
    }
   ],
   "source": [
    "hoteles_lisboa[0]['property']['wishlistName']\n",
    "hoteles_lisboa[0]['property']['name']\n",
    "hoteles_lisboa[0]['property']['reviewCount']\n",
    "hoteles_lisboa[0]['property']['reviewScore']\n",
    "hoteles_lisboa[0]['property']['priceBreakdown']['grossPrice']['value']"
   ]
  },
  {
   "cell_type": "code",
   "execution_count": 67,
   "metadata": {},
   "outputs": [],
   "source": [
    "lista_dicc_lisboa = []\n",
    "for i in range(0,(len(hoteles_lisboa))):\n",
    "     city = hoteles_lisboa[i]['property']['wishlistName']\n",
    "     name = hoteles_lisboa[i]['property']['name']\n",
    "     rc = hoteles_lisboa[i]['property']['reviewCount']\n",
    "     rsc = hoteles_lisboa[i]['property']['reviewScore']\n",
    "     price = hoteles_lisboa[i]['property']['priceBreakdown']['grossPrice']['value']\n",
    "     hora_entradal = hoteles_lisboa[i]['property']['checkin']['fromTime']\n",
    "     hora_entradal2 = hoteles_lisboa[i]['property']['checkin']['untilTime']\n",
    "     hora_salidal = hoteles_lisboa[i]['property']['checkout']['fromTime']\n",
    "     hora_salidal2 = hoteles_lisboa[i]['property']['checkout']['untilTime']\n",
    "     diccionario = {\n",
    "     'Ciudad': city,\n",
    "     'Hotel': name,\n",
    "     'Cantidad de reviews':rc,\n",
    "     'Calificación': rsc,\n",
    "     'Precio': price,\n",
    "     'Entrada desde': hora_entradal,\n",
    "     'Entrada hasta': hora_entradal2,\n",
    "     'Salida desde': hora_salidal,\n",
    "     'Salida hasta': hora_salidal2}\n",
    "     lista_dicc_lisboa.append(diccionario)"
   ]
  },
  {
   "cell_type": "code",
   "execution_count": 68,
   "metadata": {},
   "outputs": [],
   "source": [
    "df_lisboa = pd.DataFrame(lista_dicc_lisboa)"
   ]
  },
  {
   "cell_type": "code",
   "execution_count": 71,
   "metadata": {},
   "outputs": [
    {
     "data": {
      "text/plain": [
       "Ciudad                  object\n",
       "Hotel                   object\n",
       "Cantidad de reviews      int64\n",
       "Calificación           float64\n",
       "Precio                 float64\n",
       "Entrada desde           object\n",
       "Entrada hasta           object\n",
       "Salida desde            object\n",
       "Salida hasta            object\n",
       "dtype: object"
      ]
     },
     "execution_count": 71,
     "metadata": {},
     "output_type": "execute_result"
    }
   ],
   "source": [
    "df_lisboa.dtypes"
   ]
  },
  {
   "cell_type": "code",
   "execution_count": 73,
   "metadata": {},
   "outputs": [],
   "source": [
    "df_lisboa.to_csv('datos/alojamientos_lisboa.csv', index=False)"
   ]
  },
  {
   "cell_type": "code",
   "execution_count": 75,
   "metadata": {},
   "outputs": [],
   "source": [
    "df_vacio = pd.DataFrame()\n",
    "\n",
    "df_vacio = pd.concat([df_vacio,df,df_lisboa],ignore_index=True)"
   ]
  },
  {
   "cell_type": "code",
   "execution_count": 76,
   "metadata": {},
   "outputs": [
    {
     "data": {
      "text/html": [
       "<div>\n",
       "<style scoped>\n",
       "    .dataframe tbody tr th:only-of-type {\n",
       "        vertical-align: middle;\n",
       "    }\n",
       "\n",
       "    .dataframe tbody tr th {\n",
       "        vertical-align: top;\n",
       "    }\n",
       "\n",
       "    .dataframe thead th {\n",
       "        text-align: right;\n",
       "    }\n",
       "</style>\n",
       "<table border=\"1\" class=\"dataframe\">\n",
       "  <thead>\n",
       "    <tr style=\"text-align: right;\">\n",
       "      <th></th>\n",
       "      <th>Ciudad</th>\n",
       "      <th>Hotel</th>\n",
       "      <th>Cantidad de reviews</th>\n",
       "      <th>Calificación</th>\n",
       "      <th>Precio</th>\n",
       "      <th>Entrada desde</th>\n",
       "      <th>Entrada hasta</th>\n",
       "      <th>Salida desde</th>\n",
       "      <th>Salida hasta</th>\n",
       "    </tr>\n",
       "  </thead>\n",
       "  <tbody>\n",
       "    <tr>\n",
       "      <th>0</th>\n",
       "      <td>Florence</td>\n",
       "      <td>Florence Heart Uffizi - Renovated and central</td>\n",
       "      <td>70</td>\n",
       "      <td>9.1</td>\n",
       "      <td>585.000000</td>\n",
       "      <td>15:00</td>\n",
       "      <td>20:00</td>\n",
       "      <td>08:00</td>\n",
       "      <td>10:00</td>\n",
       "    </tr>\n",
       "    <tr>\n",
       "      <th>1</th>\n",
       "      <td>Florence</td>\n",
       "      <td>Appartamento la Ninfea</td>\n",
       "      <td>195</td>\n",
       "      <td>8.9</td>\n",
       "      <td>1842.380000</td>\n",
       "      <td>14:00</td>\n",
       "      <td>19:00</td>\n",
       "      <td>07:00</td>\n",
       "      <td>10:00</td>\n",
       "    </tr>\n",
       "    <tr>\n",
       "      <th>2</th>\n",
       "      <td>Florence</td>\n",
       "      <td>BorgoDeGreci Apartments</td>\n",
       "      <td>468</td>\n",
       "      <td>8.7</td>\n",
       "      <td>590.630000</td>\n",
       "      <td>14:00</td>\n",
       "      <td>00:00</td>\n",
       "      <td>06:00</td>\n",
       "      <td>10:00</td>\n",
       "    </tr>\n",
       "    <tr>\n",
       "      <th>3</th>\n",
       "      <td>Florence</td>\n",
       "      <td>B&amp;B Le Stanze del Duomo</td>\n",
       "      <td>6580</td>\n",
       "      <td>8.5</td>\n",
       "      <td>619.304625</td>\n",
       "      <td>14:00</td>\n",
       "      <td>21:00</td>\n",
       "      <td>08:00</td>\n",
       "      <td>11:00</td>\n",
       "    </tr>\n",
       "    <tr>\n",
       "      <th>4</th>\n",
       "      <td>Florence</td>\n",
       "      <td>Adler Cavalieri Hotel-Private Spa &amp; Gym</td>\n",
       "      <td>3628</td>\n",
       "      <td>8.5</td>\n",
       "      <td>722.000000</td>\n",
       "      <td>15:00</td>\n",
       "      <td>00:00</td>\n",
       "      <td>00:00</td>\n",
       "      <td>12:00</td>\n",
       "    </tr>\n",
       "    <tr>\n",
       "      <th>5</th>\n",
       "      <td>Florence</td>\n",
       "      <td>Pietrapiana Boutique Apartments</td>\n",
       "      <td>1306</td>\n",
       "      <td>9.4</td>\n",
       "      <td>640.870000</td>\n",
       "      <td>14:30</td>\n",
       "      <td>00:00</td>\n",
       "      <td>06:00</td>\n",
       "      <td>11:00</td>\n",
       "    </tr>\n",
       "    <tr>\n",
       "      <th>6</th>\n",
       "      <td>Florence</td>\n",
       "      <td>Lodges le Mura</td>\n",
       "      <td>309</td>\n",
       "      <td>9.1</td>\n",
       "      <td>558.900000</td>\n",
       "      <td>14:00</td>\n",
       "      <td>00:00</td>\n",
       "      <td>08:00</td>\n",
       "      <td>10:00</td>\n",
       "    </tr>\n",
       "    <tr>\n",
       "      <th>7</th>\n",
       "      <td>Florence</td>\n",
       "      <td>Hostel Archi Rossi</td>\n",
       "      <td>4802</td>\n",
       "      <td>8.6</td>\n",
       "      <td>145.000000</td>\n",
       "      <td>15:00</td>\n",
       "      <td>23:00</td>\n",
       "      <td>04:00</td>\n",
       "      <td>10:30</td>\n",
       "    </tr>\n",
       "    <tr>\n",
       "      <th>8</th>\n",
       "      <td>Florence</td>\n",
       "      <td>Relais Piazza Signoria</td>\n",
       "      <td>2468</td>\n",
       "      <td>9.0</td>\n",
       "      <td>1166.400000</td>\n",
       "      <td>14:00</td>\n",
       "      <td>17:00</td>\n",
       "      <td>00:00</td>\n",
       "      <td>11:00</td>\n",
       "    </tr>\n",
       "    <tr>\n",
       "      <th>9</th>\n",
       "      <td>Florence</td>\n",
       "      <td>The Artists' Palace Florence</td>\n",
       "      <td>903</td>\n",
       "      <td>9.0</td>\n",
       "      <td>698.227028</td>\n",
       "      <td>14:00</td>\n",
       "      <td>20:00</td>\n",
       "      <td>09:00</td>\n",
       "      <td>11:00</td>\n",
       "    </tr>\n",
       "    <tr>\n",
       "      <th>10</th>\n",
       "      <td>Florence</td>\n",
       "      <td>Hotel Ariele</td>\n",
       "      <td>1657</td>\n",
       "      <td>9.2</td>\n",
       "      <td>649.587839</td>\n",
       "      <td>14:00</td>\n",
       "      <td>23:30</td>\n",
       "      <td>07:00</td>\n",
       "      <td>12:00</td>\n",
       "    </tr>\n",
       "    <tr>\n",
       "      <th>11</th>\n",
       "      <td>Florence</td>\n",
       "      <td>Street Art Inn Florence</td>\n",
       "      <td>391</td>\n",
       "      <td>8.4</td>\n",
       "      <td>439.670000</td>\n",
       "      <td>14:00</td>\n",
       "      <td>00:00</td>\n",
       "      <td>00:00</td>\n",
       "      <td>11:00</td>\n",
       "    </tr>\n",
       "    <tr>\n",
       "      <th>12</th>\n",
       "      <td>Florence</td>\n",
       "      <td>Hotel Art Atelier</td>\n",
       "      <td>1345</td>\n",
       "      <td>8.9</td>\n",
       "      <td>811.282519</td>\n",
       "      <td>14:00</td>\n",
       "      <td>00:00</td>\n",
       "      <td>04:00</td>\n",
       "      <td>11:00</td>\n",
       "    </tr>\n",
       "    <tr>\n",
       "      <th>13</th>\n",
       "      <td>Florence</td>\n",
       "      <td>Ruby Bea Hotel Florence</td>\n",
       "      <td>164</td>\n",
       "      <td>8.8</td>\n",
       "      <td>557.000000</td>\n",
       "      <td>15:00</td>\n",
       "      <td>00:00</td>\n",
       "      <td>00:00</td>\n",
       "      <td>11:00</td>\n",
       "    </tr>\n",
       "    <tr>\n",
       "      <th>14</th>\n",
       "      <td>Florence</td>\n",
       "      <td>\"il Pitti\" Soggiorno</td>\n",
       "      <td>2031</td>\n",
       "      <td>7.8</td>\n",
       "      <td>481.427582</td>\n",
       "      <td>14:00</td>\n",
       "      <td>00:00</td>\n",
       "      <td>00:00</td>\n",
       "      <td>10:30</td>\n",
       "    </tr>\n",
       "    <tr>\n",
       "      <th>15</th>\n",
       "      <td>Florence</td>\n",
       "      <td>Hotel Residence La Contessina</td>\n",
       "      <td>1457</td>\n",
       "      <td>8.4</td>\n",
       "      <td>539.350000</td>\n",
       "      <td>14:00</td>\n",
       "      <td>19:00</td>\n",
       "      <td>00:00</td>\n",
       "      <td>10:00</td>\n",
       "    </tr>\n",
       "    <tr>\n",
       "      <th>16</th>\n",
       "      <td>Florence</td>\n",
       "      <td>B&amp;B Antiche Armonie</td>\n",
       "      <td>1201</td>\n",
       "      <td>8.8</td>\n",
       "      <td>552.690000</td>\n",
       "      <td>10:00</td>\n",
       "      <td>17:00</td>\n",
       "      <td>00:00</td>\n",
       "      <td>10:00</td>\n",
       "    </tr>\n",
       "    <tr>\n",
       "      <th>17</th>\n",
       "      <td>Florence</td>\n",
       "      <td>Palazzo Niccolini al Duomo Residenza D'Epoca</td>\n",
       "      <td>635</td>\n",
       "      <td>9.3</td>\n",
       "      <td>1769.000000</td>\n",
       "      <td>14:00</td>\n",
       "      <td>21:00</td>\n",
       "      <td>08:00</td>\n",
       "      <td>11:00</td>\n",
       "    </tr>\n",
       "    <tr>\n",
       "      <th>18</th>\n",
       "      <td>Florence</td>\n",
       "      <td>B&amp;B Old Florence Inn</td>\n",
       "      <td>1031</td>\n",
       "      <td>8.5</td>\n",
       "      <td>620.100000</td>\n",
       "      <td>09:00</td>\n",
       "      <td>19:00</td>\n",
       "      <td>06:00</td>\n",
       "      <td>11:00</td>\n",
       "    </tr>\n",
       "    <tr>\n",
       "      <th>19</th>\n",
       "      <td>Florence</td>\n",
       "      <td>Hotel Magenta</td>\n",
       "      <td>2374</td>\n",
       "      <td>8.6</td>\n",
       "      <td>571.000000</td>\n",
       "      <td>13:30</td>\n",
       "      <td>00:00</td>\n",
       "      <td>07:00</td>\n",
       "      <td>10:30</td>\n",
       "    </tr>\n",
       "    <tr>\n",
       "      <th>20</th>\n",
       "      <td>Lisbon</td>\n",
       "      <td>Quarto com Varanda e WC Partilhado no Chiado L...</td>\n",
       "      <td>5</td>\n",
       "      <td>7.2</td>\n",
       "      <td>216.000000</td>\n",
       "      <td>15:00</td>\n",
       "      <td>00:00</td>\n",
       "      <td>08:00</td>\n",
       "      <td>11:00</td>\n",
       "    </tr>\n",
       "    <tr>\n",
       "      <th>21</th>\n",
       "      <td>Lisbon</td>\n",
       "      <td>Cais Urban Lodge</td>\n",
       "      <td>1382</td>\n",
       "      <td>8.8</td>\n",
       "      <td>627.501724</td>\n",
       "      <td>15:00</td>\n",
       "      <td>00:00</td>\n",
       "      <td>00:00</td>\n",
       "      <td>12:00</td>\n",
       "    </tr>\n",
       "    <tr>\n",
       "      <th>22</th>\n",
       "      <td>Lisbon</td>\n",
       "      <td>Lisbon Serviced Apartments - Campos</td>\n",
       "      <td>4803</td>\n",
       "      <td>8.1</td>\n",
       "      <td>284.199860</td>\n",
       "      <td>14:00</td>\n",
       "      <td>00:00</td>\n",
       "      <td>00:00</td>\n",
       "      <td>12:00</td>\n",
       "    </tr>\n",
       "    <tr>\n",
       "      <th>23</th>\n",
       "      <td>Lisbon</td>\n",
       "      <td>Pensão Amor Madam's Lodge</td>\n",
       "      <td>979</td>\n",
       "      <td>8.9</td>\n",
       "      <td>486.000000</td>\n",
       "      <td>17:00</td>\n",
       "      <td>00:00</td>\n",
       "      <td>00:00</td>\n",
       "      <td>14:00</td>\n",
       "    </tr>\n",
       "    <tr>\n",
       "      <th>24</th>\n",
       "      <td>Lisbon</td>\n",
       "      <td>Upon Angels - Adults Only</td>\n",
       "      <td>884</td>\n",
       "      <td>9.1</td>\n",
       "      <td>655.200000</td>\n",
       "      <td>15:00</td>\n",
       "      <td>00:00</td>\n",
       "      <td>00:00</td>\n",
       "      <td>12:00</td>\n",
       "    </tr>\n",
       "    <tr>\n",
       "      <th>25</th>\n",
       "      <td>Lisbon</td>\n",
       "      <td>TURIM Iberia Hotel</td>\n",
       "      <td>5874</td>\n",
       "      <td>8.3</td>\n",
       "      <td>470.559519</td>\n",
       "      <td>14:00</td>\n",
       "      <td>00:00</td>\n",
       "      <td>00:00</td>\n",
       "      <td>12:00</td>\n",
       "    </tr>\n",
       "    <tr>\n",
       "      <th>26</th>\n",
       "      <td>Lisbon</td>\n",
       "      <td>TURIM Lisboa Hotel</td>\n",
       "      <td>2922</td>\n",
       "      <td>7.9</td>\n",
       "      <td>476.536954</td>\n",
       "      <td>14:00</td>\n",
       "      <td>00:00</td>\n",
       "      <td>00:00</td>\n",
       "      <td>12:00</td>\n",
       "    </tr>\n",
       "    <tr>\n",
       "      <th>27</th>\n",
       "      <td>Lisbon</td>\n",
       "      <td>Superb Apartments Overlooking Graça in Lisbon</td>\n",
       "      <td>215</td>\n",
       "      <td>9.4</td>\n",
       "      <td>918.000000</td>\n",
       "      <td>15:00</td>\n",
       "      <td>00:00</td>\n",
       "      <td>00:00</td>\n",
       "      <td>11:00</td>\n",
       "    </tr>\n",
       "    <tr>\n",
       "      <th>28</th>\n",
       "      <td>Lisbon</td>\n",
       "      <td>Sant Jordi Hostels Lisbon</td>\n",
       "      <td>3557</td>\n",
       "      <td>8.7</td>\n",
       "      <td>81.870000</td>\n",
       "      <td>15:00</td>\n",
       "      <td>00:00</td>\n",
       "      <td>00:00</td>\n",
       "      <td>11:00</td>\n",
       "    </tr>\n",
       "    <tr>\n",
       "      <th>29</th>\n",
       "      <td>Lisbon</td>\n",
       "      <td>Browns Downtown Hotel</td>\n",
       "      <td>3717</td>\n",
       "      <td>8.6</td>\n",
       "      <td>606.576096</td>\n",
       "      <td>15:00</td>\n",
       "      <td>00:00</td>\n",
       "      <td>00:00</td>\n",
       "      <td>12:00</td>\n",
       "    </tr>\n",
       "    <tr>\n",
       "      <th>30</th>\n",
       "      <td>Lisbon</td>\n",
       "      <td>Esqina Cosmopolitan Lodge</td>\n",
       "      <td>1150</td>\n",
       "      <td>8.6</td>\n",
       "      <td>856.615238</td>\n",
       "      <td>15:00</td>\n",
       "      <td>00:00</td>\n",
       "      <td>00:00</td>\n",
       "      <td>12:00</td>\n",
       "    </tr>\n",
       "    <tr>\n",
       "      <th>31</th>\n",
       "      <td>Lisbon</td>\n",
       "      <td>Browns Central Hotel</td>\n",
       "      <td>4873</td>\n",
       "      <td>8.9</td>\n",
       "      <td>1001.713096</td>\n",
       "      <td>15:00</td>\n",
       "      <td>00:00</td>\n",
       "      <td>00:00</td>\n",
       "      <td>12:00</td>\n",
       "    </tr>\n",
       "    <tr>\n",
       "      <th>32</th>\n",
       "      <td>Lisbon</td>\n",
       "      <td>JAM Lisbon</td>\n",
       "      <td>1793</td>\n",
       "      <td>8.8</td>\n",
       "      <td>404.520000</td>\n",
       "      <td>15:00</td>\n",
       "      <td>00:00</td>\n",
       "      <td>00:00</td>\n",
       "      <td>11:00</td>\n",
       "    </tr>\n",
       "    <tr>\n",
       "      <th>33</th>\n",
       "      <td>Lisbon</td>\n",
       "      <td>TURIM Saldanha Hotel</td>\n",
       "      <td>4208</td>\n",
       "      <td>8.2</td>\n",
       "      <td>500.879574</td>\n",
       "      <td>14:00</td>\n",
       "      <td>00:00</td>\n",
       "      <td>00:00</td>\n",
       "      <td>12:00</td>\n",
       "    </tr>\n",
       "    <tr>\n",
       "      <th>34</th>\n",
       "      <td>Lisbon</td>\n",
       "      <td>Luzeiros Suites</td>\n",
       "      <td>4192</td>\n",
       "      <td>8.3</td>\n",
       "      <td>372.600000</td>\n",
       "      <td>14:00</td>\n",
       "      <td>00:00</td>\n",
       "      <td>00:00</td>\n",
       "      <td>12:00</td>\n",
       "    </tr>\n",
       "    <tr>\n",
       "      <th>35</th>\n",
       "      <td>Lisbon</td>\n",
       "      <td>toctoctoc lisboa</td>\n",
       "      <td>610</td>\n",
       "      <td>9.5</td>\n",
       "      <td>502.610000</td>\n",
       "      <td>15:00</td>\n",
       "      <td>20:00</td>\n",
       "      <td>07:30</td>\n",
       "      <td>11:00</td>\n",
       "    </tr>\n",
       "    <tr>\n",
       "      <th>36</th>\n",
       "      <td>Lisbon</td>\n",
       "      <td>Lux Lisboa Park</td>\n",
       "      <td>5717</td>\n",
       "      <td>8.8</td>\n",
       "      <td>526.806352</td>\n",
       "      <td>15:00</td>\n",
       "      <td>00:00</td>\n",
       "      <td>00:00</td>\n",
       "      <td>12:00</td>\n",
       "    </tr>\n",
       "    <tr>\n",
       "      <th>37</th>\n",
       "      <td>Lisbon</td>\n",
       "      <td>TURIM Marques Hotel</td>\n",
       "      <td>5087</td>\n",
       "      <td>8.2</td>\n",
       "      <td>635.192260</td>\n",
       "      <td>14:00</td>\n",
       "      <td>00:00</td>\n",
       "      <td>00:00</td>\n",
       "      <td>12:00</td>\n",
       "    </tr>\n",
       "    <tr>\n",
       "      <th>38</th>\n",
       "      <td>Lisbon</td>\n",
       "      <td>TURIM Terreiro do Paço Hotel</td>\n",
       "      <td>5858</td>\n",
       "      <td>7.9</td>\n",
       "      <td>741.745333</td>\n",
       "      <td>14:00</td>\n",
       "      <td>00:00</td>\n",
       "      <td>00:00</td>\n",
       "      <td>12:00</td>\n",
       "    </tr>\n",
       "    <tr>\n",
       "      <th>39</th>\n",
       "      <td>Lisbon</td>\n",
       "      <td>Hotel Dom Carlos Liberty</td>\n",
       "      <td>3067</td>\n",
       "      <td>8.4</td>\n",
       "      <td>726.300000</td>\n",
       "      <td>15:00</td>\n",
       "      <td>23:30</td>\n",
       "      <td>06:00</td>\n",
       "      <td>12:00</td>\n",
       "    </tr>\n",
       "  </tbody>\n",
       "</table>\n",
       "</div>"
      ],
      "text/plain": [
       "      Ciudad                                              Hotel  \\\n",
       "0   Florence      Florence Heart Uffizi - Renovated and central   \n",
       "1   Florence                             Appartamento la Ninfea   \n",
       "2   Florence                            BorgoDeGreci Apartments   \n",
       "3   Florence                            B&B Le Stanze del Duomo   \n",
       "4   Florence            Adler Cavalieri Hotel-Private Spa & Gym   \n",
       "5   Florence                    Pietrapiana Boutique Apartments   \n",
       "6   Florence                                     Lodges le Mura   \n",
       "7   Florence                                 Hostel Archi Rossi   \n",
       "8   Florence                             Relais Piazza Signoria   \n",
       "9   Florence                       The Artists' Palace Florence   \n",
       "10  Florence                                       Hotel Ariele   \n",
       "11  Florence                            Street Art Inn Florence   \n",
       "12  Florence                                  Hotel Art Atelier   \n",
       "13  Florence                            Ruby Bea Hotel Florence   \n",
       "14  Florence                               \"il Pitti\" Soggiorno   \n",
       "15  Florence                      Hotel Residence La Contessina   \n",
       "16  Florence                                B&B Antiche Armonie   \n",
       "17  Florence       Palazzo Niccolini al Duomo Residenza D'Epoca   \n",
       "18  Florence                               B&B Old Florence Inn   \n",
       "19  Florence                                      Hotel Magenta   \n",
       "20    Lisbon  Quarto com Varanda e WC Partilhado no Chiado L...   \n",
       "21    Lisbon                                   Cais Urban Lodge   \n",
       "22    Lisbon                Lisbon Serviced Apartments - Campos   \n",
       "23    Lisbon                          Pensão Amor Madam's Lodge   \n",
       "24    Lisbon                          Upon Angels - Adults Only   \n",
       "25    Lisbon                                 TURIM Iberia Hotel   \n",
       "26    Lisbon                                 TURIM Lisboa Hotel   \n",
       "27    Lisbon      Superb Apartments Overlooking Graça in Lisbon   \n",
       "28    Lisbon                          Sant Jordi Hostels Lisbon   \n",
       "29    Lisbon                              Browns Downtown Hotel   \n",
       "30    Lisbon                          Esqina Cosmopolitan Lodge   \n",
       "31    Lisbon                               Browns Central Hotel   \n",
       "32    Lisbon                                         JAM Lisbon   \n",
       "33    Lisbon                               TURIM Saldanha Hotel   \n",
       "34    Lisbon                                    Luzeiros Suites   \n",
       "35    Lisbon                                   toctoctoc lisboa   \n",
       "36    Lisbon                                    Lux Lisboa Park   \n",
       "37    Lisbon                                TURIM Marques Hotel   \n",
       "38    Lisbon                       TURIM Terreiro do Paço Hotel   \n",
       "39    Lisbon                           Hotel Dom Carlos Liberty   \n",
       "\n",
       "    Cantidad de reviews  Calificación       Precio Entrada desde  \\\n",
       "0                    70           9.1   585.000000         15:00   \n",
       "1                   195           8.9  1842.380000         14:00   \n",
       "2                   468           8.7   590.630000         14:00   \n",
       "3                  6580           8.5   619.304625         14:00   \n",
       "4                  3628           8.5   722.000000         15:00   \n",
       "5                  1306           9.4   640.870000         14:30   \n",
       "6                   309           9.1   558.900000         14:00   \n",
       "7                  4802           8.6   145.000000         15:00   \n",
       "8                  2468           9.0  1166.400000         14:00   \n",
       "9                   903           9.0   698.227028         14:00   \n",
       "10                 1657           9.2   649.587839         14:00   \n",
       "11                  391           8.4   439.670000         14:00   \n",
       "12                 1345           8.9   811.282519         14:00   \n",
       "13                  164           8.8   557.000000         15:00   \n",
       "14                 2031           7.8   481.427582         14:00   \n",
       "15                 1457           8.4   539.350000         14:00   \n",
       "16                 1201           8.8   552.690000         10:00   \n",
       "17                  635           9.3  1769.000000         14:00   \n",
       "18                 1031           8.5   620.100000         09:00   \n",
       "19                 2374           8.6   571.000000         13:30   \n",
       "20                    5           7.2   216.000000         15:00   \n",
       "21                 1382           8.8   627.501724         15:00   \n",
       "22                 4803           8.1   284.199860         14:00   \n",
       "23                  979           8.9   486.000000         17:00   \n",
       "24                  884           9.1   655.200000         15:00   \n",
       "25                 5874           8.3   470.559519         14:00   \n",
       "26                 2922           7.9   476.536954         14:00   \n",
       "27                  215           9.4   918.000000         15:00   \n",
       "28                 3557           8.7    81.870000         15:00   \n",
       "29                 3717           8.6   606.576096         15:00   \n",
       "30                 1150           8.6   856.615238         15:00   \n",
       "31                 4873           8.9  1001.713096         15:00   \n",
       "32                 1793           8.8   404.520000         15:00   \n",
       "33                 4208           8.2   500.879574         14:00   \n",
       "34                 4192           8.3   372.600000         14:00   \n",
       "35                  610           9.5   502.610000         15:00   \n",
       "36                 5717           8.8   526.806352         15:00   \n",
       "37                 5087           8.2   635.192260         14:00   \n",
       "38                 5858           7.9   741.745333         14:00   \n",
       "39                 3067           8.4   726.300000         15:00   \n",
       "\n",
       "   Entrada hasta Salida desde Salida hasta  \n",
       "0          20:00        08:00        10:00  \n",
       "1          19:00        07:00        10:00  \n",
       "2          00:00        06:00        10:00  \n",
       "3          21:00        08:00        11:00  \n",
       "4          00:00        00:00        12:00  \n",
       "5          00:00        06:00        11:00  \n",
       "6          00:00        08:00        10:00  \n",
       "7          23:00        04:00        10:30  \n",
       "8          17:00        00:00        11:00  \n",
       "9          20:00        09:00        11:00  \n",
       "10         23:30        07:00        12:00  \n",
       "11         00:00        00:00        11:00  \n",
       "12         00:00        04:00        11:00  \n",
       "13         00:00        00:00        11:00  \n",
       "14         00:00        00:00        10:30  \n",
       "15         19:00        00:00        10:00  \n",
       "16         17:00        00:00        10:00  \n",
       "17         21:00        08:00        11:00  \n",
       "18         19:00        06:00        11:00  \n",
       "19         00:00        07:00        10:30  \n",
       "20         00:00        08:00        11:00  \n",
       "21         00:00        00:00        12:00  \n",
       "22         00:00        00:00        12:00  \n",
       "23         00:00        00:00        14:00  \n",
       "24         00:00        00:00        12:00  \n",
       "25         00:00        00:00        12:00  \n",
       "26         00:00        00:00        12:00  \n",
       "27         00:00        00:00        11:00  \n",
       "28         00:00        00:00        11:00  \n",
       "29         00:00        00:00        12:00  \n",
       "30         00:00        00:00        12:00  \n",
       "31         00:00        00:00        12:00  \n",
       "32         00:00        00:00        11:00  \n",
       "33         00:00        00:00        12:00  \n",
       "34         00:00        00:00        12:00  \n",
       "35         20:00        07:30        11:00  \n",
       "36         00:00        00:00        12:00  \n",
       "37         00:00        00:00        12:00  \n",
       "38         00:00        00:00        12:00  \n",
       "39         23:30        06:00        12:00  "
      ]
     },
     "execution_count": 76,
     "metadata": {},
     "output_type": "execute_result"
    }
   ],
   "source": [
    "df_vacio['Precio'].round"
   ]
  },
  {
   "cell_type": "code",
   "execution_count": 77,
   "metadata": {},
   "outputs": [],
   "source": [
    "df_vacio.to_csv('datos/alojamientos_combinados.csv', index=False)"
   ]
  },
  {
   "cell_type": "code",
   "execution_count": null,
   "metadata": {},
   "outputs": [],
   "source": []
  }
 ],
 "metadata": {
  "kernelspec": {
   "display_name": "Python 3",
   "language": "python",
   "name": "python3"
  },
  "language_info": {
   "codemirror_mode": {
    "name": "ipython",
    "version": 3
   },
   "file_extension": ".py",
   "mimetype": "text/x-python",
   "name": "python",
   "nbconvert_exporter": "python",
   "pygments_lexer": "ipython3",
   "version": "3.11.9"
  }
 },
 "nbformat": 4,
 "nbformat_minor": 2
}
