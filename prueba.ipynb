{
 "cells": [
  {
   "cell_type": "code",
   "execution_count": 1,
   "metadata": {},
   "outputs": [],
   "source": [
    "import requests"
   ]
  },
  {
   "cell_type": "code",
   "execution_count": 3,
   "metadata": {},
   "outputs": [],
   "source": [
    "import requests\n",
    "\n",
    "url = \"https://booking-com15.p.rapidapi.com/api/v1/hotels/searchHotels\"\n",
    "\n",
    "querystring = {\"dest_id\":\"-117543\",\"search_type\":\"CITY\",\"arrival_date\":\"2024-10-25\",\"departure_date\":\"2024-10-28\",\"adults\":\"1\",\"room_qty\":\"1\",\"page_number\":\"1\",\"units\":\"metric\",\"temperature_unit\":\"c\",\"languagecode\":\"en-us\",\"currency_code\":\"EUR\"}\n",
    "\n",
    "headers = {\n",
    "\t\"x-rapidapi-key\": \"8bf68f7481msh7aa93c8e8e9a6ffp19eef8jsn33f2cc37fe85\",\n",
    "\t\"x-rapidapi-host\": \"booking-com15.p.rapidapi.com\"\n",
    "}\n",
    "\n",
    "response = requests.get(url, headers=headers, params=querystring)\n",
    "\n",
    "datos= response.json()"
   ]
  },
  {
   "cell_type": "code",
   "execution_count": 7,
   "metadata": {},
   "outputs": [],
   "source": [
    "clean = datos['data']"
   ]
  },
  {
   "cell_type": "code",
   "execution_count": 8,
   "metadata": {},
   "outputs": [
    {
     "data": {
      "text/plain": [
       "dict_keys(['hotels', 'meta', 'appear'])"
      ]
     },
     "execution_count": 8,
     "metadata": {},
     "output_type": "execute_result"
    }
   ],
   "source": [
    "clean.keys()"
   ]
  },
  {
   "cell_type": "code",
   "execution_count": 11,
   "metadata": {},
   "outputs": [],
   "source": [
    "hoteles = clean['hotels']"
   ]
  },
  {
   "cell_type": "code",
   "execution_count": 13,
   "metadata": {},
   "outputs": [
    {
     "data": {
      "text/plain": [
       "{'hotel_id': 7797985,\n",
       " 'accessibilityLabel': 'Florence Heart Uffizi - Renovated and central.\\n4 out of 5 for property rating.\\n9.1 Wonderful 70 reviews.\\n\\u200eUffizi\\u202c • \\u200e500 m from downtown\\u202c.\\n Entire apartment – 55\\xa0m² : 3\\xa0beds • 2\\xa0bedrooms • 1\\xa0living room • 1\\xa0bathroom.\\nOriginal price 900 EUR. Current price 585 EUR..\\n+77 EUR taxes and charges.',\n",
       " 'property': {'id': 7797985,\n",
       "  'latitude': 43.7678655,\n",
       "  'optOutFromGalleryChanges': 0,\n",
       "  'priceBreakdown': {'benefitBadges': [{'identifier': 'Limited Time Deal',\n",
       "     'explanation': 'Limited-time Deal',\n",
       "     'text': 'Limited-time Deal',\n",
       "     'variant': 'constructive'}],\n",
       "   'taxExceptions': [],\n",
       "   'grossPrice': {'value': 585, 'currency': 'EUR'},\n",
       "   'excludedPrice': {'value': 76.5000000000001, 'currency': 'EUR'},\n",
       "   'strikethroughPrice': {'currency': 'EUR', 'value': 900}},\n",
       "  'name': 'Florence Heart Uffizi - Renovated and central',\n",
       "  'position': 0,\n",
       "  'rankingPosition': 0,\n",
       "  'reviewScoreWord': 'Wonderful',\n",
       "  'countryCode': 'it',\n",
       "  'accuratePropertyClass': 0,\n",
       "  'propertyClass': 0,\n",
       "  'currency': 'EUR',\n",
       "  'blockIds': ['779798501_336351912_1_0_0'],\n",
       "  'checkout': {'untilTime': '10:00', 'fromTime': '08:00'},\n",
       "  'qualityClass': 4,\n",
       "  'photoUrls': ['https://cf.bstatic.com/xdata/images/hotel/square500/322091192.jpg?k=f6b9caca233d2b776407800321fd05b8c412ab4e8a70f109dac1a1ce72c6d686&o=',\n",
       "   'https://cf.bstatic.com/xdata/images/hotel/square1024/322091192.jpg?k=f6b9caca233d2b776407800321fd05b8c412ab4e8a70f109dac1a1ce72c6d686&o=',\n",
       "   'https://cf.bstatic.com/xdata/images/hotel/square2000/322091192.jpg?k=f6b9caca233d2b776407800321fd05b8c412ab4e8a70f109dac1a1ce72c6d686&o='],\n",
       "  'ufi': -117543,\n",
       "  'reviewCount': 70,\n",
       "  'reviewScore': 9.1,\n",
       "  'mainPhotoId': 322091192,\n",
       "  'longitude': 11.2565933,\n",
       "  'checkoutDate': '2024-10-28',\n",
       "  'checkin': {'untilTime': '20:00', 'fromTime': '15:00'},\n",
       "  'wishlistName': 'Florence',\n",
       "  'isFirstPage': True,\n",
       "  'checkinDate': '2024-10-25'}}"
      ]
     },
     "execution_count": 13,
     "metadata": {},
     "output_type": "execute_result"
    }
   ],
   "source": [
    "hoteles[0]"
   ]
  },
  {
   "cell_type": "code",
   "execution_count": null,
   "metadata": {},
   "outputs": [],
   "source": []
  }
 ],
 "metadata": {
  "kernelspec": {
   "display_name": "TravelProyecto",
   "language": "python",
   "name": "python3"
  },
  "language_info": {
   "codemirror_mode": {
    "name": "ipython",
    "version": 3
   },
   "file_extension": ".py",
   "mimetype": "text/x-python",
   "name": "python",
   "nbconvert_exporter": "python",
   "pygments_lexer": "ipython3",
   "version": "3.11.9"
  }
 },
 "nbformat": 4,
 "nbformat_minor": 2
}
